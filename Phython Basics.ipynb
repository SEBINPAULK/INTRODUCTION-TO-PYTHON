{
  "nbformat": 4,
  "nbformat_minor": 0,
  "metadata": {
    "colab": {
      "name": "PhythonBasics.ipynb",
      "provenance": []
    },
    "kernelspec": {
      "name": "python3",
      "display_name": "Python 3"
    },
    "language_info": {
      "name": "python"
    }
  },
  "cells": [
    {
      "cell_type": "code",
      "execution_count": 1,
      "metadata": {
        "colab": {
          "base_uri": "https://localhost:8080/"
        },
        "id": "Pio9GVNtKnrw",
        "outputId": "50fac0e6-4a19-4638-fd2f-0a71db1d1957"
      },
      "outputs": [
        {
          "output_type": "execute_result",
          "data": {
            "text/plain": [
              "17"
            ]
          },
          "metadata": {},
          "execution_count": 1
        }
      ],
      "source": [
        "7+10"
      ]
    },
    {
      "cell_type": "code",
      "source": [
        "10-7"
      ],
      "metadata": {
        "colab": {
          "base_uri": "https://localhost:8080/"
        },
        "id": "zq3d9rMnMnOV",
        "outputId": "ce107184-1787-475f-ad37-2e5eda2d26a3"
      },
      "execution_count": 2,
      "outputs": [
        {
          "output_type": "execute_result",
          "data": {
            "text/plain": [
              "3"
            ]
          },
          "metadata": {},
          "execution_count": 2
        }
      ]
    },
    {
      "cell_type": "code",
      "source": [
        "10*7"
      ],
      "metadata": {
        "colab": {
          "base_uri": "https://localhost:8080/"
        },
        "id": "AAlfBDYdMrqL",
        "outputId": "2634c8b8-8cd7-48d8-af76-e4eb20063e41"
      },
      "execution_count": 3,
      "outputs": [
        {
          "output_type": "execute_result",
          "data": {
            "text/plain": [
              "70"
            ]
          },
          "metadata": {},
          "execution_count": 3
        }
      ]
    },
    {
      "cell_type": "code",
      "source": [
        "10/7"
      ],
      "metadata": {
        "colab": {
          "base_uri": "https://localhost:8080/"
        },
        "id": "_nqmsprDMspL",
        "outputId": "67717a9d-6296-44f8-d55a-cdab6b27f450"
      },
      "execution_count": 4,
      "outputs": [
        {
          "output_type": "execute_result",
          "data": {
            "text/plain": [
              "1.4285714285714286"
            ]
          },
          "metadata": {},
          "execution_count": 4
        }
      ]
    },
    {
      "cell_type": "code",
      "source": [
        "x=7"
      ],
      "metadata": {
        "id": "Y99dvGcEMu6b"
      },
      "execution_count": 5,
      "outputs": []
    },
    {
      "cell_type": "code",
      "source": [
        "print(x)"
      ],
      "metadata": {
        "colab": {
          "base_uri": "https://localhost:8080/"
        },
        "id": "gDRZodV6M6ia",
        "outputId": "80cc9cd8-45c3-4620-d7cf-d5f6af3741b0"
      },
      "execution_count": 6,
      "outputs": [
        {
          "output_type": "stream",
          "name": "stdout",
          "text": [
            "7\n"
          ]
        }
      ]
    },
    {
      "cell_type": "code",
      "source": [
        "x=7.25"
      ],
      "metadata": {
        "id": "6NYTcrAiM-26"
      },
      "execution_count": 7,
      "outputs": []
    },
    {
      "cell_type": "code",
      "source": [
        "print(x)"
      ],
      "metadata": {
        "colab": {
          "base_uri": "https://localhost:8080/"
        },
        "id": "vUsMD-QkNOj6",
        "outputId": "b6be9148-652b-414a-a752-ff67fbe836a1"
      },
      "execution_count": 8,
      "outputs": [
        {
          "output_type": "stream",
          "name": "stdout",
          "text": [
            "7.25\n"
          ]
        }
      ]
    },
    {
      "cell_type": "code",
      "source": [
        "y=10"
      ],
      "metadata": {
        "id": "aQkw6XEnNSGK"
      },
      "execution_count": 9,
      "outputs": []
    },
    {
      "cell_type": "code",
      "source": [
        "x-y"
      ],
      "metadata": {
        "colab": {
          "base_uri": "https://localhost:8080/"
        },
        "id": "EATM_ZM2Ncm6",
        "outputId": "55d848f9-9506-472f-f7e3-911d55beb40e"
      },
      "execution_count": 10,
      "outputs": [
        {
          "output_type": "execute_result",
          "data": {
            "text/plain": [
              "-2.75"
            ]
          },
          "metadata": {},
          "execution_count": 10
        }
      ]
    },
    {
      "cell_type": "code",
      "source": [
        "x+y"
      ],
      "metadata": {
        "colab": {
          "base_uri": "https://localhost:8080/"
        },
        "id": "dR7t8GhjNfAD",
        "outputId": "02b596d8-ca02-4d5f-9ddd-68462acd1e03"
      },
      "execution_count": 11,
      "outputs": [
        {
          "output_type": "execute_result",
          "data": {
            "text/plain": [
              "17.25"
            ]
          },
          "metadata": {},
          "execution_count": 11
        }
      ]
    },
    {
      "cell_type": "code",
      "source": [
        "x*y"
      ],
      "metadata": {
        "colab": {
          "base_uri": "https://localhost:8080/"
        },
        "id": "PcI0Vz9NNgxK",
        "outputId": "7d2dc726-e4e3-4325-8d02-a09005ae31a9"
      },
      "execution_count": 12,
      "outputs": [
        {
          "output_type": "execute_result",
          "data": {
            "text/plain": [
              "72.5"
            ]
          },
          "metadata": {},
          "execution_count": 12
        }
      ]
    },
    {
      "cell_type": "code",
      "source": [
        "x/y"
      ],
      "metadata": {
        "colab": {
          "base_uri": "https://localhost:8080/"
        },
        "id": "rXwunr5GNi8q",
        "outputId": "4aadc21c-f02a-4aa8-806a-d24ada6e23c2"
      },
      "execution_count": 13,
      "outputs": [
        {
          "output_type": "execute_result",
          "data": {
            "text/plain": [
              "0.725"
            ]
          },
          "metadata": {},
          "execution_count": 13
        }
      ]
    },
    {
      "cell_type": "code",
      "source": [
        "x+y,x-y,x*y,x/y"
      ],
      "metadata": {
        "colab": {
          "base_uri": "https://localhost:8080/"
        },
        "id": "R-6GcEByNktC",
        "outputId": "82dcde93-34eb-41dc-dbbb-37049ae492db"
      },
      "execution_count": 14,
      "outputs": [
        {
          "output_type": "execute_result",
          "data": {
            "text/plain": [
              "(17.25, -2.75, 72.5, 0.725)"
            ]
          },
          "metadata": {},
          "execution_count": 14
        }
      ]
    },
    {
      "cell_type": "code",
      "source": [
        "x=76"
      ],
      "metadata": {
        "id": "-zrt2QjTNv-D"
      },
      "execution_count": 15,
      "outputs": []
    },
    {
      "cell_type": "code",
      "source": [
        "y=70.77"
      ],
      "metadata": {
        "id": "rfa-5hNZOSEi"
      },
      "execution_count": 16,
      "outputs": []
    },
    {
      "cell_type": "code",
      "source": [
        "z=\"sebastian\""
      ],
      "metadata": {
        "id": "-nqIOg9GOVyC"
      },
      "execution_count": 17,
      "outputs": []
    },
    {
      "cell_type": "code",
      "source": [
        "type(x)"
      ],
      "metadata": {
        "colab": {
          "base_uri": "https://localhost:8080/"
        },
        "id": "9QPtSR1RObOi",
        "outputId": "6ea71032-65cc-490d-9b8e-8e3cfa4c55f7"
      },
      "execution_count": 18,
      "outputs": [
        {
          "output_type": "execute_result",
          "data": {
            "text/plain": [
              "int"
            ]
          },
          "metadata": {},
          "execution_count": 18
        }
      ]
    },
    {
      "cell_type": "code",
      "source": [
        "type(y)"
      ],
      "metadata": {
        "colab": {
          "base_uri": "https://localhost:8080/"
        },
        "id": "L6PBEgx9OqVy",
        "outputId": "0ce67898-59ad-4a3c-a15a-fa0f4e586aa7"
      },
      "execution_count": 19,
      "outputs": [
        {
          "output_type": "execute_result",
          "data": {
            "text/plain": [
              "float"
            ]
          },
          "metadata": {},
          "execution_count": 19
        }
      ]
    },
    {
      "cell_type": "code",
      "source": [
        "type(z)"
      ],
      "metadata": {
        "colab": {
          "base_uri": "https://localhost:8080/"
        },
        "id": "1Pk1IPNtOv_6",
        "outputId": "56f3e241-1134-4817-be1e-0972ab041f0c"
      },
      "execution_count": 20,
      "outputs": [
        {
          "output_type": "execute_result",
          "data": {
            "text/plain": [
              "str"
            ]
          },
          "metadata": {},
          "execution_count": 20
        }
      ]
    },
    {
      "cell_type": "code",
      "source": [
        "x=input(\"goodbye\")"
      ],
      "metadata": {
        "colab": {
          "base_uri": "https://localhost:8080/"
        },
        "id": "5VDPTj7qOyDC",
        "outputId": "0c0f5ad2-2e8f-48a1-895c-b7146aef7814"
      },
      "execution_count": 21,
      "outputs": [
        {
          "name": "stdout",
          "output_type": "stream",
          "text": [
            "goodbye friend\n"
          ]
        }
      ]
    },
    {
      "cell_type": "code",
      "source": [
        "type(x)"
      ],
      "metadata": {
        "colab": {
          "base_uri": "https://localhost:8080/"
        },
        "id": "uddYBrPuPHSD",
        "outputId": "87d0410a-b619-418b-c8bd-5a0fd1b989e5"
      },
      "execution_count": 22,
      "outputs": [
        {
          "output_type": "execute_result",
          "data": {
            "text/plain": [
              "str"
            ]
          },
          "metadata": {},
          "execution_count": 22
        }
      ]
    },
    {
      "cell_type": "code",
      "source": [
        "x=input(\"enter the first number\")\n",
        "y=input(\"enter the second number\")"
      ],
      "metadata": {
        "colab": {
          "base_uri": "https://localhost:8080/"
        },
        "id": "uwJhL7HQQQlI",
        "outputId": "b7d1c52a-52d8-4c71-8312-80577800f903"
      },
      "execution_count": 23,
      "outputs": [
        {
          "name": "stdout",
          "output_type": "stream",
          "text": [
            "enter the first number 7\n",
            "enter the second number 10\n"
          ]
        }
      ]
    },
    {
      "cell_type": "code",
      "source": [
        "print(int(x)+int(y))"
      ],
      "metadata": {
        "colab": {
          "base_uri": "https://localhost:8080/"
        },
        "id": "n7y5w-s4Qmka",
        "outputId": "7fc79ec9-1817-4410-d0c5-79e155a7fcb4"
      },
      "execution_count": 24,
      "outputs": [
        {
          "output_type": "stream",
          "name": "stdout",
          "text": [
            "17\n"
          ]
        }
      ]
    },
    {
      "cell_type": "code",
      "source": [
        "x=input(\"what is your mark in accounting\")"
      ],
      "metadata": {
        "colab": {
          "base_uri": "https://localhost:8080/"
        },
        "id": "9J62MXbxQ9i6",
        "outputId": "9e6fbe19-018b-445d-d17c-d5c2ca17b902"
      },
      "execution_count": 25,
      "outputs": [
        {
          "name": "stdout",
          "output_type": "stream",
          "text": [
            "what is your mark in accounting 75\n"
          ]
        }
      ]
    },
    {
      "cell_type": "code",
      "source": [
        "print(x)"
      ],
      "metadata": {
        "colab": {
          "base_uri": "https://localhost:8080/"
        },
        "id": "jRrRZ_LyRuzT",
        "outputId": "118e28f5-731d-415b-ef47-34cd9844af90"
      },
      "execution_count": 26,
      "outputs": [
        {
          "output_type": "stream",
          "name": "stdout",
          "text": [
            " 75\n"
          ]
        }
      ]
    },
    {
      "cell_type": "code",
      "source": [
        "x=input(\"what is your mark in accounting\")\n",
        "if (int(x)>50):\n",
        "   print(\"pass\")\n",
        "if (int(x)<50):\n",
        "  print(\"fail\")\n",
        "   "
      ],
      "metadata": {
        "colab": {
          "base_uri": "https://localhost:8080/"
        },
        "id": "enerEx3GSXrr",
        "outputId": "8355213c-f044-42ff-b833-8159ff72dcf4"
      },
      "execution_count": 27,
      "outputs": [
        {
          "output_type": "stream",
          "name": "stdout",
          "text": [
            "what is your mark in accounting 49\n",
            "fail\n"
          ]
        }
      ]
    },
    {
      "cell_type": "code",
      "source": [
        "x=input(\"if your salary is above 200000 then u are taxable. what is ur salary\")\n",
        "if (int(x)>200000):\n",
        "   print(\"u are taxable\")\n",
        "if (int(x)<200000):\n",
        "   print(\"u are not taxable\")"
      ],
      "metadata": {
        "colab": {
          "base_uri": "https://localhost:8080/"
        },
        "id": "Zz6X_qCdTbrV",
        "outputId": "5b94ad7f-c06d-4906-be43-55c5f5e4ce90"
      },
      "execution_count": 28,
      "outputs": [
        {
          "output_type": "stream",
          "name": "stdout",
          "text": [
            "if your salary is above 200000 then u are taxable. what is ur salary 250000\n",
            "u are taxable\n"
          ]
        }
      ]
    },
    {
      "cell_type": "code",
      "source": [
        "x=input(\"if your salary is above 200000 then u are taxable. what is ur salary\")\n",
        "if (int(x)>200000):\n",
        "   print(\"u are taxable\")\n",
        "   print(int(x)*10/100)\n",
        "if (int(x)<200000):\n",
        "   print(\"u are not taxable\")"
      ],
      "metadata": {
        "colab": {
          "base_uri": "https://localhost:8080/"
        },
        "id": "aSYYgXIWWlbV",
        "outputId": "146e00d9-e503-4802-c920-af78c67fad10"
      },
      "execution_count": 29,
      "outputs": [
        {
          "output_type": "stream",
          "name": "stdout",
          "text": [
            "if your salary is above 200000 then u are taxable. what is ur salary1000000\n",
            "u are taxable\n",
            "100000.0\n"
          ]
        }
      ]
    },
    {
      "cell_type": "code",
      "source": [
        "x=input(\"if your salary is above 200000 then u are taxable. what is ur salary\")\n",
        "if (int(x)>200000):\n",
        "   print(\"u are taxable\")\n",
        "   print(int(x)-200000*10/100)\n",
        "if (int(x)<200000):\n",
        "   print(\"u are not taxable\")"
      ],
      "metadata": {
        "colab": {
          "base_uri": "https://localhost:8080/"
        },
        "id": "71EvwIM4ZIOh",
        "outputId": "77635950-55fd-45ac-a73d-175c681c79ba"
      },
      "execution_count": 30,
      "outputs": [
        {
          "output_type": "stream",
          "name": "stdout",
          "text": [
            "if your salary is above 200000 then u are taxable. what is ur salary300000\n",
            "u are taxable\n",
            "280000.0\n"
          ]
        }
      ]
    },
    {
      "cell_type": "code",
      "source": [
        ""
      ],
      "metadata": {
        "id": "Ndsx1vWOdymm"
      },
      "execution_count": 30,
      "outputs": []
    }
  ]
}